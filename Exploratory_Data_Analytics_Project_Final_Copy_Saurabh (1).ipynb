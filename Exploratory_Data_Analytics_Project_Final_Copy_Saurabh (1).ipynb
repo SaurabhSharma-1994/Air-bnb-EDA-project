{
  "nbformat": 4,
  "nbformat_minor": 0,
  "metadata": {
    "colab": {
      "private_outputs": true,
      "provenance": [],
      "collapsed_sections": [
        "gIfDvo9L0UH2"
      ]
    },
    "kernelspec": {
      "name": "python3",
      "display_name": "Python 3"
    },
    "language_info": {
      "name": "python"
    }
  },
  "cells": [
    {
      "cell_type": "markdown",
      "source": [
        "# **Project Name**    - AirBnb Bookings Analysis\n"
      ],
      "metadata": {
        "id": "vncDsAP0Gaoa"
      }
    },
    {
      "cell_type": "markdown",
      "source": [
        "##### **Project Type**    - Exploratory Data Analysis\n",
        "##### **Contribution**    - Individual\n",
        "##### **Team Member 1 - Saurabh Sharma\n",
        "##### **Team Member 2 - Harshika Singhal\n",
        "\n"
      ],
      "metadata": {
        "id": "beRrZCGUAJYm"
      }
    },
    {
      "cell_type": "markdown",
      "source": [
        "# **Project Summary -**\n",
        "<b> Airbnb, as in “Air Bed and Breakfast,” is a service that lets property owners rent out their spaces to travelers looking for a place to stay. Travelers can rent a space for multiple people to share, a shared space with private rooms, or the entire property for themselves. The model also gives you the opportunity to customize and personalize your guests’ experience the way you want. Airbnb was started in 2008 by Brian Chesky and Joe Gebbia, based in San Fransisco California.The platform is accessible via website and mobile app.\n",
        "\n",
        "This project aims to analyze hotel booking data to gain insights and make data-driven decisions for improving the their operations and customer experience. By examining various aspects of the data, such as booking patterns, customer preferences, and revenue trends,\n",
        "\n",
        "This project seeks to provide valuable information to optimize resource allocation, marketing strategies, and overall hotel\n",
        "performance."
      ],
      "metadata": {
        "id": "FJNUwmbgGyua"
      }
    },
    {
      "cell_type": "markdown",
      "source": [
        "# **GitHub Link -**"
      ],
      "metadata": {
        "id": "w6K7xa23Elo4"
      }
    },
    {
      "cell_type": "markdown",
      "source": [
        "Name - Saurabh Sharma\n",
        "\n",
        "link - https://github.com/SaurabhSharma-1994\n",
        "\n",
        "\n",
        "Name - Harshika Singhal\n",
        "\n",
        "Link - https://github.com/dashboard"
      ],
      "metadata": {
        "id": "h1o69JH3Eqqn"
      }
    },
    {
      "cell_type": "markdown",
      "source": [
        "# **Problem Statement**\n"
      ],
      "metadata": {
        "id": "yQaldy8SH6Dl"
      }
    },
    {
      "cell_type": "markdown",
      "source": [
        "**Since 2008, guests and hosts have used Airbnb to expand on traveling possibilities and present a more unique, personalized way of experiencing the world. Today, Airbnb became one of a kind service that is used and recognized by the whole world. Data analysis on millions of listings provided through Airbnb is a crucial factor for the company. These millions of listings generate a lot of data - data that can be analyzed and used for security, business decisions, understanding of customers' and providers' (hosts) behavior and performance on the platform, guiding marketing initiatives, implementation of innovative additional services and much more.**\n",
        "\n",
        "\n"
      ],
      "metadata": {
        "id": "DpeJGUA3kjGy"
      }
    },
    {
      "cell_type": "markdown",
      "source": [
        "#### **Define Your Business Objective?**"
      ],
      "metadata": {
        "id": "PH-0ReGfmX4f"
      }
    },
    {
      "cell_type": "markdown",
      "source": [
        "**Explore and analyze the data to discover key understandings (not limited to these) such as :**\n",
        "* Location of neighbourhood and number of hotel\n",
        "* Types of Room in each location\n",
        "* Neighbourhood group and Availability of rooms\n",
        "* Average time stay in each type of room"
      ],
      "metadata": {
        "id": "PhDvGCAqmjP1"
      }
    },
    {
      "cell_type": "markdown",
      "source": [
        "# **General Guidelines** : -  "
      ],
      "metadata": {
        "id": "mDgbUHAGgjLW"
      }
    },
    {
      "cell_type": "markdown",
      "source": [
        "1.   Well-structured, formatted, and commented code is required.\n",
        "2.   Exception Handling, Production Grade Code & Deployment Ready Code will be a plus. Those students will be awarded some additional credits.\n",
        "     \n",
        "     The additional credits will have advantages over other students during Star Student selection.\n",
        "       \n",
        "             [ Note: - Deployment Ready Code is defined as, the whole .ipynb notebook should be executable in one go\n",
        "                       without a single error logged. ]\n",
        "\n",
        "3.   Each and every logic should have proper comments.\n",
        "4. You may add as many number of charts you want. Make Sure for each and every chart the following format should be answered.\n",
        "        \n",
        "\n",
        "```\n",
        "# Chart visualization code\n",
        "```\n",
        "            \n",
        "\n",
        "*   Why did you pick the specific chart?\n",
        "*   What is/are the insight(s) found from the chart?\n",
        "* Will the gained insights help creating a positive business impact?\n",
        "Are there any insights that lead to negative growth? Justify with specific reason.\n",
        "\n",
        "5. You have to create at least 20 logical & meaningful charts having important insights.\n",
        "\n",
        "\n",
        "[ Hints : - Do the Vizualization in  a structured way while following \"UBM\" Rule.\n",
        "\n",
        "U - Univariate Analysis,\n",
        "\n",
        "B - Bivariate Analysis (Numerical - Categorical, Numerical - Numerical, Categorical - Categorical)\n",
        "\n",
        "M - Multivariate Analysis\n",
        " ]\n",
        "\n",
        "\n",
        "\n"
      ],
      "metadata": {
        "id": "ZrxVaUj-hHfC"
      }
    },
    {
      "cell_type": "markdown",
      "source": [
        "# ***Let's Begin !***"
      ],
      "metadata": {
        "id": "O_i_v8NEhb9l"
      }
    },
    {
      "cell_type": "markdown",
      "source": [
        "## ***1. Know Your Data***"
      ],
      "metadata": {
        "id": "HhfV-JJviCcP"
      }
    },
    {
      "cell_type": "markdown",
      "source": [
        "### Import Libraries"
      ],
      "metadata": {
        "id": "Y3lxredqlCYt"
      }
    },
    {
      "cell_type": "code",
      "source": [
        "# Import Libraries\n",
        "!pip install klib\n",
        "\n",
        "import pandas as pd\n",
        "import numpy as np\n",
        "import seaborn as sns\n",
        "import matplotlib.pyplot as plt\n",
        "from collections import Counter\n",
        "import klib"
      ],
      "metadata": {
        "id": "M8Vqi-pPk-HR"
      },
      "execution_count": null,
      "outputs": []
    },
    {
      "cell_type": "markdown",
      "source": [
        "### Dataset Loading"
      ],
      "metadata": {
        "id": "3RnN4peoiCZX"
      }
    },
    {
      "cell_type": "code",
      "source": [
        "from google.colab import drive      #Here we are connecting our drive to our colab\n",
        "drive.mount('/content/drive')\n"
      ],
      "metadata": {
        "id": "hoVXRKWffd10"
      },
      "execution_count": null,
      "outputs": []
    },
    {
      "cell_type": "code",
      "source": [
        "file_path = '/content/drive/MyDrive/Air BnB EDA Project/Data Set/Airbnb NYC 2019.csv'     #This is the path of our file in our Google drive\n"
      ],
      "metadata": {
        "id": "JCSfp4uBgbRY"
      },
      "execution_count": null,
      "outputs": []
    },
    {
      "cell_type": "code",
      "source": [
        "# Load Dataset\n",
        "airbnb=pd.read_csv(file_path)     #Here we are reading the the file using Pandas library"
      ],
      "metadata": {
        "id": "4CkvbW_SlZ_R"
      },
      "execution_count": null,
      "outputs": []
    },
    {
      "cell_type": "markdown",
      "source": [
        "### Dataset First View"
      ],
      "metadata": {
        "id": "x71ZqKXriCWQ"
      }
    },
    {
      "cell_type": "code",
      "source": [
        "# Dataset First Look\n",
        "airbnb.head()     #Here we are reading the dataset using head function."
      ],
      "metadata": {
        "id": "LWNFOSvLl09H"
      },
      "execution_count": null,
      "outputs": []
    },
    {
      "cell_type": "code",
      "source": [
        "airbnb.tail()     #Here we are reading the last 5 rows of dataset and default value for our tail() is 5."
      ],
      "metadata": {
        "id": "8miTf1w1kSVf"
      },
      "execution_count": null,
      "outputs": []
    },
    {
      "cell_type": "markdown",
      "source": [
        "### Dataset Rows & Columns count"
      ],
      "metadata": {
        "id": "7hBIi_osiCS2"
      }
    },
    {
      "cell_type": "code",
      "source": [
        "# Dataset Rows & Columns count\n",
        "airbnb.shape      #Shape is used to check the number of rows and columns in a dataset."
      ],
      "metadata": {
        "id": "Kllu7SJgmLij"
      },
      "execution_count": null,
      "outputs": []
    },
    {
      "cell_type": "code",
      "source": [
        "airbnb.count() #Use to count the number of times an element in columns"
      ],
      "metadata": {
        "id": "_W91qRCwiODg"
      },
      "execution_count": null,
      "outputs": []
    },
    {
      "cell_type": "code",
      "source": [
        "airbnb.count(axis=1)   #Use to count the number of times an element in each rows"
      ],
      "metadata": {
        "id": "RCo6nomMiiUO"
      },
      "execution_count": null,
      "outputs": []
    },
    {
      "cell_type": "markdown",
      "source": [
        "### Dataset Information"
      ],
      "metadata": {
        "id": "JlHwYmJAmNHm"
      }
    },
    {
      "cell_type": "code",
      "source": [
        "# Dataset Info\n",
        "airbnb.info()     #The use of info here is to get some basic information about a topic or a term and this will give you a brief summary about Airbnb dataset."
      ],
      "metadata": {
        "id": "e9hRXRi6meOf"
      },
      "execution_count": null,
      "outputs": []
    },
    {
      "cell_type": "markdown",
      "source": [
        "#### Duplicate Values"
      ],
      "metadata": {
        "id": "35m5QtbWiB9F"
      }
    },
    {
      "cell_type": "code",
      "source": [
        "# Dataset Duplicate Value Count\n",
        "len(airbnb[airbnb.duplicated()])    #This code is used to find the number of duplicated rows in the dataframe ‘airbnb’."
      ],
      "metadata": {
        "id": "1sLdpKYkmox0"
      },
      "execution_count": null,
      "outputs": []
    },
    {
      "cell_type": "code",
      "source": [
        "# Missing Values/Null Values Count\n",
        "airbnb.isnull().sum()"
      ],
      "metadata": {
        "id": "gjpJeT04WXOz"
      },
      "execution_count": null,
      "outputs": []
    },
    {
      "cell_type": "markdown",
      "source": [
        "#### Missing Values/Null Values"
      ],
      "metadata": {
        "id": "PoPl-ycgm1ru"
      }
    },
    {
      "cell_type": "code",
      "source": [
        "# Visualizing the missing values\n",
        "sns.heatmap(airbnb.isnull())\n"
      ],
      "metadata": {
        "id": "GgHWkxvamxVg"
      },
      "execution_count": null,
      "outputs": []
    },
    {
      "cell_type": "code",
      "source": [
        "# Use fillna() method to replace the NULL values with a specified value.\n",
        "airbnb.fillna(0, inplace=True)"
      ],
      "metadata": {
        "id": "bMoXqqBZVECL"
      },
      "execution_count": null,
      "outputs": []
    },
    {
      "cell_type": "code",
      "source": [
        "airbnb.isnull().sum()     #Here we are checking if we still have any null value or not"
      ],
      "metadata": {
        "id": "ghgegFeagHto"
      },
      "execution_count": null,
      "outputs": []
    },
    {
      "cell_type": "code",
      "source": [
        "airbnb.describe()     #Here we are checking the statistical information about the Airbnb dataset, such as count, mean, standard deviation, minimum and maximum values, quartiles, etc."
      ],
      "metadata": {
        "id": "MMS3zZEmo4cL"
      },
      "execution_count": null,
      "outputs": []
    },
    {
      "cell_type": "markdown",
      "source": [
        "### What did you know about your dataset?"
      ],
      "metadata": {
        "id": "H0kj-8xxnORC"
      }
    },
    {
      "cell_type": "markdown",
      "source": [
        "OBSERVATIONS:-\n",
        "* The data contains total 48895 rows\n",
        "\n",
        "* The dataset contains total 16 columns\n",
        "* Min Price 1s 0 USD and Max Price is 10000 USD\n",
        "* Mean Price is 152 USD\n",
        "* On average people stay for 7 days in a room.\n",
        "* There were total four columns with null values.\n",
        "\n"
      ],
      "metadata": {
        "id": "gfoNAAC-nUe_"
      }
    },
    {
      "cell_type": "markdown",
      "source": [
        "## ***2. Understanding Your Variables***"
      ],
      "metadata": {
        "id": "nA9Y7ga8ng1Z"
      }
    },
    {
      "cell_type": "code",
      "source": [
        "#Here we are checking all the Columns present in our airbnb dataset\n",
        "list(airbnb.columns)"
      ],
      "metadata": {
        "id": "j7xfkqrt5Ag5"
      },
      "execution_count": null,
      "outputs": []
    },
    {
      "cell_type": "code",
      "source": [
        "#Here we are checking the statistical information about the Airbnb dataset, such as count, mean, standard deviation, minimum and maximum values, quartiles, etc.\n",
        "#include='all' will show all numeric and non-numeric values in the data set\n",
        "airbnb.describe(include='all')"
      ],
      "metadata": {
        "id": "DnOaZdaE5Q5t"
      },
      "execution_count": null,
      "outputs": []
    },
    {
      "cell_type": "markdown",
      "source": [
        "### Variables Description"
      ],
      "metadata": {
        "id": "PBTbrJXOngz2"
      }
    },
    {
      "cell_type": "markdown",
      "source": [
        "* **id                :** The unique id for each new customer given by hotels.\n",
        "\n",
        "* **name                :** The name of each customer.\n",
        "\n",
        "* **host_id            :** host_id is id of customer.\n",
        "\n",
        "* **host_name            :** The name of the customer.\n",
        "\n",
        "* **neighbourhood_group  :** The group in the neighbours.\n",
        "\n",
        "* **neighbourhood       :** City in the neighbours.\n",
        "\n",
        "* **latitude             :** location of hotels in latitude.\n",
        "\n",
        "* **longitude            :** location of hotels in longitude.\n",
        "\n",
        "* **room_type             :** type of room(Private,Entire home/apt).\n",
        "\n",
        "* **price**          : price of room in USD.\n",
        "\n",
        "* **minimum_nights**          : stay for nights.\n",
        "\n",
        "* **number_of_reviews**         : reviews by customer.\n",
        "\n",
        "* **last_review**         : date at which customer given th review.\n",
        "\n",
        "* **calculated_host_listings_count**     : total counts of host.\n",
        "\n",
        "* **availability_365**         : availablity of customer."
      ],
      "metadata": {
        "id": "aJV4KIxSnxay"
      }
    },
    {
      "cell_type": "markdown",
      "source": [
        "### Check Unique Values for each variable."
      ],
      "metadata": {
        "id": "u3PMJOP6ngxN"
      }
    },
    {
      "cell_type": "code",
      "source": [
        "# Check Unique Values for each variable.\n",
        "for i in airbnb.columns.tolist():\n",
        "  print(\"No. of unique values in\",i,\"is\",airbnb[i].nunique(),\".\")"
      ],
      "metadata": {
        "id": "zms12Yq5n-jE"
      },
      "execution_count": null,
      "outputs": []
    },
    {
      "cell_type": "markdown",
      "source": [
        "## 3. ***Data Wrangling***"
      ],
      "metadata": {
        "id": "dauF4eBmngu3"
      }
    },
    {
      "cell_type": "markdown",
      "source": [
        "### Data Wrangling Code"
      ],
      "metadata": {
        "id": "bKJF3rekwFvQ"
      }
    },
    {
      "cell_type": "markdown",
      "source": [
        "What all manipulations have you done and insights you found?\n"
      ],
      "metadata": {
        "id": "wk-9a2fpoLcV"
      }
    },
    {
      "cell_type": "markdown",
      "source": [
        "# **1. Dropped the Host name as they are not very much usefull in our Analysis**"
      ],
      "metadata": {
        "id": "xwgrCWdc5-Zx"
      }
    },
    {
      "cell_type": "code",
      "source": [
        "# Write your code to make your dataset analysis ready.\n",
        "airbnb.drop([\"host_name\"], axis=1, inplace = True)\n",
        "airbnb.head()"
      ],
      "metadata": {
        "id": "Gn2XDLvgX0t3"
      },
      "execution_count": null,
      "outputs": []
    },
    {
      "cell_type": "markdown",
      "source": [
        "# **2. Last Review**"
      ],
      "metadata": {
        "id": "e8zzmpuL7VWa"
      }
    },
    {
      "cell_type": "code",
      "source": [
        "#Checking the one column name \"Last Review\" in our dataset so that we can understand the data type and get the insisght about the data\n",
        "airbnb['last_review'].head()\n"
      ],
      "metadata": {
        "id": "_27gBE4d77rj"
      },
      "execution_count": null,
      "outputs": []
    },
    {
      "cell_type": "code",
      "source": [
        "#Used the to_datetime function for converting the 'last_review' whose data type is objects to data type datetime\n",
        "airbnb['last_review'] = pd.to_datetime(airbnb['last_review'], format = \"%Y-%m-%d\")\n",
        "airbnb['last_review']"
      ],
      "metadata": {
        "id": "PHPGBmkwFU17"
      },
      "execution_count": null,
      "outputs": []
    },
    {
      "cell_type": "code",
      "source": [
        "# Use dropna() to remove rows having null values\n",
        "airbnb.dropna().head()"
      ],
      "metadata": {
        "id": "toYCPE2CJT6T"
      },
      "execution_count": null,
      "outputs": []
    },
    {
      "cell_type": "markdown",
      "source": [
        "**We see that minimum price is zero which looks incorrect so we can assign $100 as a minimum price**"
      ],
      "metadata": {
        "id": "P9CEVOQJJfTW"
      }
    },
    {
      "cell_type": "code",
      "source": [
        "# Creating a custom function for setting up the minimum vaalue as zero\n",
        "def min_price(x):\n",
        "  if x == 0:\n",
        "    return 100\n",
        "  else:\n",
        "    return x"
      ],
      "metadata": {
        "id": "T-Bu1wakKKJz"
      },
      "execution_count": null,
      "outputs": []
    },
    {
      "cell_type": "code",
      "source": [
        "# Applying custom function for setting minimum value in price as $100\n",
        "airbnb[\"price\"] = airbnb[\"price\"].apply(min_price)\n",
        "airbnb[airbnb[\"price\"]==100]"
      ],
      "metadata": {
        "id": "Khm-O5vuL3Yr"
      },
      "execution_count": null,
      "outputs": []
    },
    {
      "cell_type": "markdown",
      "source": [
        "## ***4. Data Vizualization, Storytelling & Experimenting with charts : Understand the relationships between variables***"
      ],
      "metadata": {
        "id": "GF8Ens_Soomf"
      }
    },
    {
      "cell_type": "markdown",
      "source": [
        ":# **Chart - 1 Location of neighbourhood vs number of hotel**"
      ],
      "metadata": {
        "id": "0wOQAZs5pc--"
      }
    },
    {
      "cell_type": "code",
      "source": [
        "# Chart - 1 Neighbourhood Location\n",
        "df_airbnb = airbnb.groupby([\"neighbourhood_group\"], as_index=False).count()\n",
        "fig, ax = plt.subplots(figsize=(10, 8))\n",
        "df_airbnb_sorted = df_airbnb.sort_values(\"id\", ascending=False)\n",
        "x = sns.barplot(data=df_airbnb_sorted, x=\"neighbourhood_group\", y=\"id\", palette='plasma')\n",
        "x.set_title(\"NEIGHBOURHOOD LOCATION\")\n",
        "x.set_xlabel(\"Neighbourhood\")\n",
        "x.set_ylabel(\"Number of Hotels\")\n",
        "\n"
      ],
      "metadata": {
        "id": "7v_ESjsspbW7"
      },
      "execution_count": null,
      "outputs": []
    },
    {
      "cell_type": "markdown",
      "source": [
        "##### 1. Why did you pick the specific chart?"
      ],
      "metadata": {
        "id": "K5QZ13OEpz2H"
      }
    },
    {
      "cell_type": "markdown",
      "source": [
        " The chart allows us to compare the number of hotels across different neighborhood groups. By looking at the lengths of the bars, you can quickly identify which neighborhoods have a higher concentration of hotels and which have fewer."
      ],
      "metadata": {
        "id": "XESiWehPqBRc"
      }
    },
    {
      "cell_type": "markdown",
      "source": [
        "##### 2. What is/are the insight(s) found from the chart?"
      ],
      "metadata": {
        "id": "lQ7QKXXCp7Bj"
      }
    },
    {
      "cell_type": "markdown",
      "source": [
        "1. The chart helps identify the neighborhood groups with the highest number of hotels. The taller the bar, the greater the number of hotels in that particular neighborhood group\n",
        "\n",
        "2. We can observe how the number of hotels is distributed across different neighborhood groups. This insight can be valuable for understanding the hotel market in the area and identifying popular or less-explored neighborhoods for potential accommodation options.\n",
        "\n",
        "3. The chart also reveals the imbalances or gaps in the distribution of hotels across neighborhood groups. Some neighborhood groups have significantly fewer hotels compared to others, it indicate potential opportunities for growth or untapped markets."
      ],
      "metadata": {
        "id": "C_j1G7yiqdRP"
      }
    },
    {
      "cell_type": "markdown",
      "source": [
        "##### 3. Will the gained insights help creating a positive business impact?\n",
        "Are there any insights that lead to negative growth? Justify with specific reason."
      ],
      "metadata": {
        "id": "448CDAPjqfQr"
      }
    },
    {
      "cell_type": "markdown",
      "source": [
        "Yes, the insights gained from the provided bar chart can potentially lead to a positive business impact\n",
        "\n",
        "**Positive Growth Insights:**\n",
        "\n",
        "1.  Identifying neighborhoods with a high concentration of hotels can highlight\n",
        "areas with a high demand for accommodation. This information can help businesses make informed decisions about expanding or establishing new hotels in those neighborhoods, potentially leading to increased revenue and market share.\n",
        "\n",
        "2.  Based on the insights gained from the chart, stakeholders such as hotel owners, investors, or tourism agencies can make informed decisions regarding investment, marketing efforts, or resource allocation in different neighborhood groups.\n",
        "\n",
        "**Negative Growth Insights:**\n",
        "\n",
        "1.  If certain neighborhood groups have a significantly higher number of hotels compared to others, it may indicate an oversaturated market. This could lead to intense competition, reduced profitability, and difficulty in attracting customers. Businesses entering such markets may face challenges in achieving sustainable growth and profitability."
      ],
      "metadata": {
        "id": "3cspy4FjqxJW"
      }
    },
    {
      "cell_type": "markdown",
      "source": [
        "# **Chart - 2 Types of Room in each location**"
      ],
      "metadata": {
        "id": "KSlN3yHqYklG"
      }
    },
    {
      "cell_type": "code",
      "source": [
        "# Chart - 2 Types of Room in each location\n",
        "x = sns.countplot(data=airbnb, x=\"neighbourhood_group\", hue=\"room_type\")\n",
        "x.set_title(\"TYPES OF ROOM IN EACH LOCATION\")\n",
        "x.set_xlabel(\"Neighbourhood\")\n",
        "x.set_ylabel(\"Number of Hotels\")\n",
        "\n",
        "plt.show()"
      ],
      "metadata": {
        "id": "R4YgtaqtYklH"
      },
      "execution_count": null,
      "outputs": []
    },
    {
      "cell_type": "markdown",
      "source": [
        "##### 1. Why did you pick the specific chart?"
      ],
      "metadata": {
        "id": "t6dVpIINYklI"
      }
    },
    {
      "cell_type": "markdown",
      "source": [
        "This visualization will provide insights into the distribution of room types across different neighborhood groups. It can help identify which types of rooms are more prevalent in each neighborhood group, allowing businesses or analysts to understand the market dynamics and cater their services accordingly."
      ],
      "metadata": {
        "id": "5aaW0BYyYklI"
      }
    },
    {
      "cell_type": "markdown",
      "source": [
        "##### 2. What is/are the insight(s) found from the chart?"
      ],
      "metadata": {
        "id": "ijmpgYnKYklI"
      }
    },
    {
      "cell_type": "markdown",
      "source": [
        "By comparing the heights of the bars within each neighborhood group, we can identify the most common or popular room types in different neighborhoods. Here in this graph we can see that in Manhattan demand for  Entire home/apartment is higher then the private room or shared room but in other neighborhood group demand for private room is higher as compare to Entire home/apartment This information can be valuable for understanding the preferences and demands of customers in specific areas."
      ],
      "metadata": {
        "id": "PSx9atu2YklI"
      }
    },
    {
      "cell_type": "markdown",
      "source": [
        "##### 3. Will the gained insights help creating a positive business impact?\n",
        "Are there any insights that lead to negative growth? Justify with specific reason."
      ],
      "metadata": {
        "id": "-JiQyfWJYklI"
      }
    },
    {
      "cell_type": "markdown",
      "source": [
        "The gained insights from the count plot can potentially help create a positive business impact. However, it's important to note that specific business outcomes can vary depending on the context and the actions taken based on the insights.\n",
        "\n",
        "Positive Business Impact:\n",
        "\n",
        "1.  Targeted Marketing: Understanding the prevalent room types in each neighborhood group can help businesses tailor their marketing strategies to target specific customer preferences. By aligning offerings and promotions with popular room types, businesses can attract more customers and increase bookings.\n",
        "\n",
        "2.  Market Differentiation: Identifying variations in room type distribution across neighborhood groups can help businesses differentiate themselves from competitors. By offering unique room types or focusing on underrepresented options, businesses can stand out in the market and attract customers seeking something different.\n",
        "\n",
        "3.  Market Expansion: Discovering neighborhoods with a lower count of a specific room type presents growth opportunities. By expanding offerings in those areas, businesses can tap into underserved markets and potentially capture new customers, leading to positive growth.\n",
        "\n",
        "Negative Growth Insights:\n",
        "\n",
        "1.  Oversaturated Markets: If certain room types are heavily concentrated in specific neighborhood groups, it may indicate oversaturation. Businesses entering such neighborhoods with similar offerings may face intense competition, lower occupancy rates, and reduced profitability. This insight could lead to negative growth if not addressed appropriately.\n",
        "\n",
        "2.  Limited Demand: If a particular room type has a consistently low count across all neighborhood groups, it suggests limited demand. Businesses focusing exclusively on such room types may struggle to attract customers and experience negative growth. Careful evaluation of the market potential and customer preferences is crucial before investing in these room types.\n",
        "\n",
        "3.  Inefficient Resource Allocation: If the count plot reveals significant variations in room type distribution across neighborhoods, it can highlight inefficiencies in resource allocation. Businesses heavily investing in room types with low demand in specific neighborhoods might experience negative growth due to misalignment between supply and demand."
      ],
      "metadata": {
        "id": "BcBbebzrYklV"
      }
    },
    {
      "cell_type": "markdown",
      "source": [
        "# Chart - 3 Types of room and average prices per person"
      ],
      "metadata": {
        "id": "EM7whBJCYoAo"
      }
    },
    {
      "cell_type": "code",
      "source": [
        "# Chart - 3 Types of room and mean prices per person\n",
        "df_mpp = airbnb.groupby([\"room_type\"], as_index = False).agg({\"price\": \"mean\", \"calculated_host_listings_count\": \"mean\"})\n",
        "df_mpp[\"avg. pay per person\"] = df_mpp[\"price\"]/df_mpp[\"calculated_host_listings_count\"]\n",
        "x= sns.barplot(data = df_mpp, x = \"room_type\", y = \"avg. pay per person\")\n",
        "\n",
        "# Naming the Chart\n",
        "x.set_title(\"AVERAGE PRICE OF ROOM PER PERSON\")\n",
        "\n",
        "# Naming Y & X axis\n",
        "x.set_ylabel(\"Price\")\n",
        "x.set_xlabel(\"Type of Rooms\")\n",
        "\n",
        "plt.show()"
      ],
      "metadata": {
        "id": "t6GMdE67YoAp"
      },
      "execution_count": null,
      "outputs": []
    },
    {
      "cell_type": "markdown",
      "source": [
        "##### 1. Why did you pick the specific chart?"
      ],
      "metadata": {
        "id": "fge-S5ZAYoAp"
      }
    },
    {
      "cell_type": "markdown",
      "source": [
        " This chart is used to compare different categories of data. Here, you are comparing the average price of different types of rooms. The x-axis represents the different types of rooms and the y-axis represents the average price per person. The height of each bar represents the average price per person for that particular type of room."
      ],
      "metadata": {
        "id": "5dBItgRVYoAp"
      }
    },
    {
      "cell_type": "markdown",
      "source": [
        "##### 2. What is/are the insight(s) found from the chart?"
      ],
      "metadata": {
        "id": "85gYPyotYoAp"
      }
    },
    {
      "cell_type": "markdown",
      "source": [
        " The average price per person is highest for hotel rooms and lowest for shared rooms. This means that hotel rooms are the most expensive and shared rooms are the cheapest option for travelers. Another possible insight is that the average price per person is similar for private rooms and entire homes/apartments. This means that there is not much difference in cost between renting a private room or an entire home/apartment."
      ],
      "metadata": {
        "id": "4jstXR6OYoAp"
      }
    },
    {
      "cell_type": "markdown",
      "source": [
        "##### 3. Will the gained insights help creating a positive business impact?\n",
        "Are there any insights that lead to negative growth? Justify with specific reason."
      ],
      "metadata": {
        "id": "RoGjAbkUYoAp"
      }
    },
    {
      "cell_type": "markdown",
      "source": [
        "The insights gained from the chart can help create a positive business impact. For example, if you are an Airbnb host, you can use this information to set the price of your listing. You can also use this information to determine which type of room is most popular among travelers and adjust your listing accordingly. However, there are no insights that lead to negative growth. The insights gained from the chart are purely descriptive and do not provide any causal relationship between the variables. Therefore, it is up to the business owner to interpret the data and make decisions based on their own goals and objectives."
      ],
      "metadata": {
        "id": "zfJ8IqMcYoAp"
      }
    },
    {
      "cell_type": "markdown",
      "source": [
        "# Chart - 4 Neighbourhood group and Availability of rooms"
      ],
      "metadata": {
        "id": "4Of9eVA-YrdM"
      }
    },
    {
      "cell_type": "code",
      "source": [
        "# Chart - 3 Neighbourhood group and Availability of rooms\n",
        "\n",
        "plt.figure(figsize=(14,6))\n",
        "ax = sns.boxplot(data=airbnb, x='neighbourhood_group',y='availability_365',palette='rocket')\n",
        "\n",
        "# Naming the Chart\n",
        "ax.set_title('Relation between Neighbourhood group & Availability of rooms')\n",
        "\n",
        "# Naming X & Y axis\n",
        "ax.set_ylabel('Availability 365 Days')\n",
        "ax.set_xlabel('Neighbourhood Group')\n",
        "\n",
        "#Adjusting Bar labels\n",
        "ax.set_xticklabels(ax.get_xticklabels(), size = '15')"
      ],
      "metadata": {
        "id": "irlUoxc8YrdO"
      },
      "execution_count": null,
      "outputs": []
    },
    {
      "cell_type": "markdown",
      "source": [
        "##### 1. Why did you pick the specific chart?"
      ],
      "metadata": {
        "id": "iky9q4vBYrdO"
      }
    },
    {
      "cell_type": "markdown",
      "source": [
        "The boxplot is used to show the relationship between the Neighbourhood group and the availability of rooms. It allows you to see the distribution of availability within each neighbourhood group and identify any differences or patterns between them."
      ],
      "metadata": {
        "id": "aJRCwT6DYrdO"
      }
    },
    {
      "cell_type": "markdown",
      "source": [
        "##### 2. What is/are the insight(s) found from the chart?"
      ],
      "metadata": {
        "id": "F6T5p64dYrdO"
      }
    },
    {
      "cell_type": "markdown",
      "source": [
        "Staten island has highest availability of rooms over 365 days followed by bronx.\n",
        "Brooklyn and manhattan has least availability of rooms"
      ],
      "metadata": {
        "id": "Xx8WAJvtYrdO"
      }
    },
    {
      "cell_type": "markdown",
      "source": [
        "##### 3. Will the gained insights help creating a positive business impact?\n",
        "Are there any insights that lead to negative growth? Justify with specific reason."
      ],
      "metadata": {
        "id": "y-Ehk30pYrdP"
      }
    },
    {
      "cell_type": "markdown",
      "source": [
        "The insights regarding the availability of rooms in different Neighbourhood groups can guide strategic planning for the business. Understanding which neighborhoods have higher availability (such as Staten Island and the Bronx) and which have lower availability (such as Brooklyn and Manhattan) can inform decisions related to property acquisition, expansion, and investment."
      ],
      "metadata": {
        "id": "jLNxxz7MYrdP"
      }
    },
    {
      "cell_type": "markdown",
      "source": [
        "# Chart - 5 Average time stay in each type of room"
      ],
      "metadata": {
        "id": "bamQiAODYuh1"
      }
    },
    {
      "cell_type": "code",
      "source": [
        "# Chart - 5 Average time stay in each type of room\n",
        "\n",
        "#Here we are finding the average stay in Airbnb by finding the average nights spends\n",
        "airbnb_average_stay = airbnb.groupby([\"room_type\"], as_index = False).agg({\"minimum_nights\": \"mean\"}).sort_values(by = \"minimum_nights\")\n",
        "\n",
        "#Creating a Barplot using Seaborn library\n",
        "x = sns.barplot(data = airbnb_average_stay, x = \"room_type\", y = \"minimum_nights\")\n",
        "\n",
        "# Naming the Chart\n",
        "x.set_title(\"AVERANGE TIME STAY IN EACH TYPE OF ROOM\")\n",
        "\n",
        "# Naming the  X and Y axis\n",
        "x.set_ylabel(\"Night Stayed\")\n",
        "x.set_xlabel(\"Type of Rooms\")"
      ],
      "metadata": {
        "id": "TIJwrbroYuh3"
      },
      "execution_count": null,
      "outputs": []
    },
    {
      "cell_type": "markdown",
      "source": [
        "##### 1. Why did you pick the specific chart?"
      ],
      "metadata": {
        "id": "QHF8YVU7Yuh3"
      }
    },
    {
      "cell_type": "markdown",
      "source": [
        "Barplot chart is displaying the average time stayed in each type of room. The heights of the bars is representing the average minimum nights stayed for each room type."
      ],
      "metadata": {
        "id": "dcxuIMRPYuh3"
      }
    },
    {
      "cell_type": "markdown",
      "source": [
        "##### 2. What is/are the insight(s) found from the chart?"
      ],
      "metadata": {
        "id": "GwzvFGzlYuh3"
      }
    },
    {
      "cell_type": "markdown",
      "source": [
        "The chart provides information about the average minimum nights stayed for each room type. It indicates that, on average, guests staying in private rooms tend to stay for approximately 5 days, while those in shared rooms stay for around 6 days, and guests in entire homes/apartments stay for approximately 8 days"
      ],
      "metadata": {
        "id": "uyqkiB8YYuh3"
      }
    },
    {
      "cell_type": "markdown",
      "source": [
        "##### 3. Will the gained insights help creating a positive business impact?\n",
        "Are there any insights that lead to negative growth? Justify with specific reason."
      ],
      "metadata": {
        "id": "qYpmQ266Yuh3"
      }
    },
    {
      "cell_type": "markdown",
      "source": [
        "**Positive business impact**\n",
        "\n",
        "* By understanding the average time stayed in different room types, hosts and property owners can optimize their revenue. They can adjust their pricing strategies, minimum night requirements, and availability to maximize occupancy and revenue. For example, if guests tend to stay longer in entire homes/apartments, hosts can prioritize these listings and potentially command higher rates for longer stays.\n",
        "\n",
        "\n",
        "**Negative growth impact**\n",
        "\n",
        "* If hosts solely focus on accommodating guests with longer stays, it may lead to a reduced number of bookings or limited capacity utilization. This could potentially result in negative growth\n",
        "\n",
        "* Guests generally prefer shorter stays in certain room types, hosts may face increased competition in those segments. This could lead to a more saturated market, potentially affecting pricing dynamics and overall profitability."
      ],
      "metadata": {
        "id": "_WtzZ_hCYuh4"
      }
    },
    {
      "cell_type": "markdown",
      "source": [
        "# **Chart - 6 Hotel Used Every Year**"
      ],
      "metadata": {
        "id": "OH-pJp9IphqM"
      }
    },
    {
      "cell_type": "code",
      "source": [
        "#Chart - 6 Hotel Used Every Year\n",
        "\n",
        "#Grouping and Counting\n",
        "df_air_bnb_huey = airbnb.groupby([\"last_review\"], as_index = False).count()\n",
        "\n",
        "#Date Range Selection\n",
        "start_date = '2010-01-01'\n",
        "end_date = '2019-12-31'\n",
        "mask = (df_air_bnb_huey['last_review'] >= start_date) & (df_air_bnb_huey['last_review'] <= end_date)\n",
        "\n",
        "#Data Filtering\n",
        "df_air_bnb_huey = df_air_bnb_huey.loc[mask]\n",
        "\n",
        "#Line Plot Creation\n",
        "x = sns.lineplot(data = df_air_bnb_huey, x=\"last_review\", y=\"id\")\n",
        "\n",
        "#Chart Title and Axis Labels:\n",
        "x.set_title(\"HOTEL BOOKED EVERY YEAR\")\n",
        "x.set_ylabel(\"Year\")\n",
        "x.set_xlabel(\"count of hotel booked\")"
      ],
      "metadata": {
        "id": "kuRf4wtuphqN"
      },
      "execution_count": null,
      "outputs": []
    },
    {
      "cell_type": "markdown",
      "source": [
        "##### 1. Why did you pick the specific chart?"
      ],
      "metadata": {
        "id": "bbFf2-_FphqN"
      }
    },
    {
      "cell_type": "markdown",
      "source": [
        "The line plot was chosen for the scenario because it effectively visualizes the time series data of hotel bookings over time, enabling trend analysis, showcasing the sequential relationship, and providing insights into the distribution of bookings."
      ],
      "metadata": {
        "id": "loh7H2nzphqN"
      }
    },
    {
      "cell_type": "markdown",
      "source": [
        "##### 2. What is/are the insight(s) found from the chart?"
      ],
      "metadata": {
        "id": "_ouA3fa0phqN"
      }
    },
    {
      "cell_type": "markdown",
      "source": [
        "\n",
        "The chart depicting the count of hotel bookings over time reveals the insights such as seasonal patterns, long-term trends, peak periods of high demand, and notable changes in booking patterns, providing valuable information for optimizing pricing, resource planning, and marketing strategies in the hospitality industry.\n",
        "\n",
        "In above chart we can see that count of hotel booking has increased significantly after 2016 and it was highest in 2019."
      ],
      "metadata": {
        "id": "VECbqPI7phqN"
      }
    },
    {
      "cell_type": "markdown",
      "source": [
        "##### 3. Will the gained insights help creating a positive business impact?\n",
        "Are there any insights that lead to negative growth? Justify with specific reason."
      ],
      "metadata": {
        "id": "Seke61FWphqN"
      }
    },
    {
      "cell_type": "markdown",
      "source": [
        "**Insights Leading Positive Business Impact:**\n",
        "* Insights such as seasonal patterns, long-term trends, and peak periods of high demand can help businesses optimize pricing, resource planning, and marketing strategies, leading to increased revenue, profitability, and customer satisfaction.\n",
        "\n",
        "**Insights Leading to Negative Growth:**\n",
        "* As of now there is no any insights that leads to Negative growth but If the long-term trend shows consistent decline, businesses need to respond with strategies to counteract negative trends and regain growth. Additionally, missed opportunities from ineffective utilization of seasonal patterns or peak periods, as well as inaccurate forecasting, can lead to slower growth or missed revenue targets."
      ],
      "metadata": {
        "id": "DW4_bGpfphqN"
      }
    },
    {
      "cell_type": "markdown",
      "source": [
        "# **Chart - 7 Room Type v/s Number of People**"
      ],
      "metadata": {
        "id": "PIIx-8_IphqN"
      }
    },
    {
      "cell_type": "code",
      "source": [
        "# Chart - 7 Room Type v/s Number of People\n",
        "\n",
        "#Figure Size\n",
        "plt.figure(figsize=(12, 6))\n",
        "\n",
        "#Boxplot Creation\n",
        "x = sns.boxenplot(x=\"room_type\", y=\"calculated_host_listings_count\", data=airbnb)\n",
        "\n",
        "#Chart Title and Axis Labels:\n",
        "x.set_title(\"ROOM TYPE V/S NUMBER OF PEOPLE\")\n",
        "x.set_ylabel(\"Number of occupants\")\n",
        "x.set_xlabel(\"Type of room\")"
      ],
      "metadata": {
        "id": "lqAIGUfyphqO"
      },
      "execution_count": null,
      "outputs": []
    },
    {
      "cell_type": "markdown",
      "source": [
        "##### 1. Why did you pick the specific chart?"
      ],
      "metadata": {
        "id": "t27r6nlMphqO"
      }
    },
    {
      "cell_type": "markdown",
      "source": [
        "The boxenplot was chosen because it enables easy comparison of the distribution of occupants across room types, identification of outliers, presentation of summary statistics, and visualization of relationships between room types and the number of occupants."
      ],
      "metadata": {
        "id": "iv6ro40sphqO"
      }
    },
    {
      "cell_type": "markdown",
      "source": [
        "##### 2. What is/are the insight(s) found from the chart?"
      ],
      "metadata": {
        "id": "r2jJGEOYphqO"
      }
    },
    {
      "cell_type": "markdown",
      "source": [
        "The chart provides potential insights such as variations in occupancy levels across different room types such as Shared room has lowest occupents and Entire home/apt has most number of occupents."
      ],
      "metadata": {
        "id": "Po6ZPi4hphqO"
      }
    },
    {
      "cell_type": "markdown",
      "source": [
        "##### 3. Will the gained insights help creating a positive business impact?\n",
        "Are there any insights that lead to negative growth? Justify with specific reason."
      ],
      "metadata": {
        "id": "b0JNsNcRphqO"
      }
    },
    {
      "cell_type": "markdown",
      "source": [
        "**Positive Business Impact:**\n",
        "\n",
        "* The gained insights can help businesses optimize resource allocation, inform pricing strategies, and guide property management decisions, leading to improved efficiency, revenue maximization, enhanced guest experience, and positive customer reviews.\n",
        "\n",
        "**Insights Leading to Negative Growth:**\n",
        "\n",
        "*  Failure to address capacity constraints identified by the insights or misaligned marketing strategies may result in missed revenue opportunities, dissatisfied customers, and hindered growth."
      ],
      "metadata": {
        "id": "xvSq8iUTphqO"
      }
    },
    {
      "cell_type": "markdown",
      "source": [
        "# **Chart - 8 Neighbourhood with most number of Hotels**"
      ],
      "metadata": {
        "id": "BZR9WyysphqO"
      }
    },
    {
      "cell_type": "code",
      "source": [
        "#Grouping and Counting\n",
        "df_nmh_airbnb = airbnb.groupby([\"neighbourhood\"]).count()\n",
        "neighborhood_counts = Counter(airbnb['neighbourhood'])\n",
        "\n",
        "#Top 10 Neighborhoods\n",
        "top_10 = neighborhood_counts.most_common(10)\n",
        "\n",
        "#Bar Plot Creation:\n",
        "x = sns.barplot(x = \"neighbourhood\", y=\"count\", data = pd.DataFrame(top_10, columns=[\"neighbourhood\", \"count\"]))\n",
        "\n",
        "#Axis Manipulation:\n",
        "plt.xticks(rotation=90)\n",
        "\n",
        "#Chart Title and Axis Labels:\n",
        "x.set_title(\"Count of Neighbourhood\")\n",
        "x.set_ylabel(\"Frequency\")\n",
        "x.set_xlabel(\"Neighbourhood\")"
      ],
      "metadata": {
        "id": "TdPTWpAVphqO"
      },
      "execution_count": null,
      "outputs": []
    },
    {
      "cell_type": "markdown",
      "source": [
        "##### 1. Why did you pick the specific chart?"
      ],
      "metadata": {
        "id": "jj7wYXLtphqO"
      }
    },
    {
      "cell_type": "markdown",
      "source": [
        "The bar plot was selected because it effectively presents the count of listings in different neighborhoods, allowing for easy comparison and identification of the most popular neighborhood"
      ],
      "metadata": {
        "id": "Ob8u6rCTphqO"
      }
    },
    {
      "cell_type": "markdown",
      "source": [
        "##### 2. What is/are the insight(s) found from the chart?"
      ],
      "metadata": {
        "id": "eZrbJ2SmphqO"
      }
    },
    {
      "cell_type": "markdown",
      "source": [
        "The chart provides potential insights into the popularity of neighborhoods based on the count of listings, the concentration of listings in specific neighborhoods, market demand for accommodation in different areas, and potential investment opportunities in neighborhoods with lower listing counts.\n",
        "\n",
        "In above chart we have represented the most popular top 10 neighborhoods with respect to most number of hotels"
      ],
      "metadata": {
        "id": "mZtgC_hjphqO"
      }
    },
    {
      "cell_type": "markdown",
      "source": [
        "##### 3. Will the gained insights help creating a positive business impact?\n",
        "Are there any insights that lead to negative growth? Justify with specific reason."
      ],
      "metadata": {
        "id": "rFu4xreNphqO"
      }
    },
    {
      "cell_type": "markdown",
      "source": [
        "**Positive Business Impact:**\n",
        "* By focusing on popular neighborhoods with a higher count of listings, aligning offerings with guest preferences, and exploring untapped markets, businesses can increase revenue, enhance customer satisfaction, and establish a competitive advantage.\n",
        "\n",
        "**Insights Leading to Negative Growth:**\n",
        "* Potential risks include oversaturation in popular neighborhoods, leading to increased competition and potential downward pressure on prices, as well as neglecting neighborhoods with a lower count of listings, missing out on untapped market potential and growth opportunities."
      ],
      "metadata": {
        "id": "ey_0qi68phqO"
      }
    },
    {
      "cell_type": "markdown",
      "source": [
        "# **Chart - 9 Number of night v/s Number of reviews**"
      ],
      "metadata": {
        "id": "YJ55k-q6phqO"
      }
    },
    {
      "cell_type": "code",
      "source": [
        "# Chart - 9 Number of night v/s Number of reviews\n",
        "#Figure Size:\n",
        "fig,ax = plt.subplots(figsize = (12, 6))\n",
        "\n",
        "#Scatter Plot Creation:\n",
        "x = sns.scatterplot(data = airbnb, x=\"minimum_nights\", y=\"number_of_reviews\")\n",
        "\n",
        "#Chart Title and Axis Labels:\n",
        "x.set_title(\"NUMBER OF NIGHTS V/S NUMBER OF REVIEWS\")\n",
        "x.set_ylabel(\"Number of Reviews\")\n",
        "x.set_xlabel(\"Night Stayed\")"
      ],
      "metadata": {
        "id": "B2aS4O1ophqO"
      },
      "execution_count": null,
      "outputs": []
    },
    {
      "cell_type": "markdown",
      "source": [
        "##### 1. Why did you pick the specific chart?"
      ],
      "metadata": {
        "id": "gCFgpxoyphqP"
      }
    },
    {
      "cell_type": "markdown",
      "source": [
        "The scatter plot was selected because it effectively visualizes the relationship between the number of nights stayed and the number of reviews. It allows for observing patterns, trends, and potential correlations between the two variables at the individual listing level. Additionally, the scatter plot displays the distribution of the variables and provides insights into data density, particularly when there are many data points.."
      ],
      "metadata": {
        "id": "TVxDimi2phqP"
      }
    },
    {
      "cell_type": "markdown",
      "source": [
        "##### 2. What is/are the insight(s) found from the chart?"
      ],
      "metadata": {
        "id": "OVtJsKN_phqQ"
      }
    },
    {
      "cell_type": "markdown",
      "source": [
        "The chart reveals whether there is a correlation between the number of nights stayed and the number of reviews received. Higher numbers of reviews indicate higher guest engagement, satisfaction, or longer stays.\n",
        "\n",
        "In Above chart we can see that number of reviews are higher when the guest are stayed for less number of night stayes."
      ],
      "metadata": {
        "id": "ngGi97qjphqQ"
      }
    },
    {
      "cell_type": "markdown",
      "source": [
        "##### 3. Will the gained insights help creating a positive business impact?\n",
        "Are there any insights that lead to negative growth? Justify with specific reason."
      ],
      "metadata": {
        "id": "lssrdh5qphqQ"
      }
    },
    {
      "cell_type": "markdown",
      "source": [
        "**Positive Business Impact:**\n",
        "\n",
        "* The analysis reveals that there is a correlation between the number of nights stayed and the number of reviews received.\n",
        "Guest whose night stay is less are giving more reviews.\n",
        "\n",
        "* The scatter plot provide insights into the specific stay durations that generate a higher number of reviews, helping businesses identify the lengths of stay that result in increased review activit\n",
        "\n",
        "**Negative Business Growth:**\n",
        "* Less people stay at hotel for long period of time and people who stay for long period of time are giving less reviews"
      ],
      "metadata": {
        "id": "tBpY5ekJphqQ"
      }
    },
    {
      "cell_type": "markdown",
      "source": [
        "# **Chart - 10 Scatter plot according to neighbourhood group**"
      ],
      "metadata": {
        "id": "U2RJ9gkRphqQ"
      }
    },
    {
      "cell_type": "code",
      "source": [
        "# Chart - 10 Scatter plot according to neighbourhood group\n",
        "\n",
        "#Figure Size:\n",
        "plt.figure(figsize=(14,6))\n",
        "\n",
        "#Figure Size:\n",
        "sns.scatterplot(x=airbnb['longitude'],y=airbnb['latitude'], hue=airbnb['neighbourhood_group']).set(title='Scatter plot according to neighbourhood group')\n",
        "plt.show()"
      ],
      "metadata": {
        "id": "GM7a4YP4phqQ"
      },
      "execution_count": null,
      "outputs": []
    },
    {
      "cell_type": "markdown",
      "source": [
        "##### 1. Why did you pick the specific chart?"
      ],
      "metadata": {
        "id": "1M8mcRywphqQ"
      }
    },
    {
      "cell_type": "markdown",
      "source": [
        "The scatter plot was selected because it effectively visualizes the geographical distribution of Airbnb listings based on latitude and longitude coordinates. It allows for the identification of spatial patterns, clusters, and trends in the data. Additionally, the use of a categorical hue to differentiate neighborhood groups adds another dimension to the visualization, providing insights into the distribution of listings across different areas. The scatter plot's clear representation of data points on a map enhances readability and facilitates the interpretation of the geographical distribution of listings."
      ],
      "metadata": {
        "id": "8agQvks0phqQ"
      }
    },
    {
      "cell_type": "markdown",
      "source": [
        "##### 2. What is/are the insight(s) found from the chart?"
      ],
      "metadata": {
        "id": "tgIPom80phqQ"
      }
    },
    {
      "cell_type": "markdown",
      "source": [
        "These insights help us in understanding the popularity and availability of accommodations in different neighborhood groups, identifying unique characteristics or high-density areas, and gaining knowledge about the geographic features that attract hosts and guests to specific regions."
      ],
      "metadata": {
        "id": "Qp13pnNzphqQ"
      }
    },
    {
      "cell_type": "markdown",
      "source": [
        "##### 3. Will the gained insights help creating a positive business impact?\n",
        "Are there any insights that lead to negative growth? Justify with specific reason."
      ],
      "metadata": {
        "id": "JMzcOPDDphqR"
      }
    },
    {
      "cell_type": "markdown",
      "source": [
        "**Positive Business Impact:**\n",
        "\n",
        "* The gained insights can help businesses achieve a positive impact by Targeted Marketing, Pricing Optimization and Business Expansion.\n",
        "\n",
        "**Risks and Considerations:**\n",
        "\n",
        "* While the insights themselves do not inherently lead to negative growth, businesses should be aware of potential risks, such as:\n",
        "\n",
        "* Oversaturated markets and Neglecting neighborhood groups with lower popularity may result in missed growth opportunities and limited market reach."
      ],
      "metadata": {
        "id": "R4Ka1PC2phqR"
      }
    },
    {
      "cell_type": "markdown",
      "source": [
        "# **Chart - 11 Room Type Distribution on Scatterplot accross United States**"
      ],
      "metadata": {
        "id": "x-EpHcCOp1ci"
      }
    },
    {
      "cell_type": "code",
      "source": [
        "#Chart - 11 Room Type Distribution on Scatterplot accross United States\n",
        "\n",
        "#Figure Size:\n",
        "plt.figure(figsize=(14,6))\n",
        "\n",
        "#Figure Size:\n",
        "sns.scatterplot(x=airbnb['longitude'],y=airbnb['latitude'], hue=airbnb['room_type']).set(title='ROOM TYPE SCATTER PLOT ON MAP')\n",
        "\n",
        "#Displaying the Plot\n",
        "plt.show()"
      ],
      "metadata": {
        "id": "mAQTIvtqp1cj"
      },
      "execution_count": null,
      "outputs": []
    },
    {
      "cell_type": "markdown",
      "source": [
        "##### 1. Why did you pick the specific chart?"
      ],
      "metadata": {
        "id": "X_VqEhTip1ck"
      }
    },
    {
      "cell_type": "markdown",
      "source": [
        "The scatter plot on a map is selected because it effectively visualizes the geographical distribution of Airbnb listings based on latitude and longitude coordinates, with different room types represented by different colors. Here are the key reasons for choosing this chart is Geographical Representation, Variable Comparison and  It helps in understanding the geographical relationships between data points, allowing for a better understanding of the distribution of room types in specific regions or neighborhoods."
      ],
      "metadata": {
        "id": "-vsMzt_np1ck"
      }
    },
    {
      "cell_type": "markdown",
      "source": [
        "##### 2. What is/are the insight(s) found from the chart?"
      ],
      "metadata": {
        "id": "8zGJKyg5p1ck"
      }
    },
    {
      "cell_type": "markdown",
      "source": [
        "Here in above graph we can see that density of shared is very less and density of Private room and Entire Home/ apartment is more as compared to shared room."
      ],
      "metadata": {
        "id": "ZYdMsrqVp1ck"
      }
    },
    {
      "cell_type": "markdown",
      "source": [
        "##### 3. Will the gained insights help creating a positive business impact?\n",
        "Are there any insights that lead to negative growth? Justify with specific reason."
      ],
      "metadata": {
        "id": "PVzmfK_Ep1ck"
      }
    },
    {
      "cell_type": "markdown",
      "source": [
        "**Positive Business Impact:**\n",
        "* The gained insights can help businesses achieve a positive impact by Analyzing the geographical distribution of Airbnb listings and room types enables businesses to target marketing efforts, optimize pricing strategies, and allocate resources effectively, resulting in increased revenue and profitability.\n",
        "\n",
        "**Negative Business Impact:**\n",
        "* Businesses should be cautious of oversaturation and neglecting growth opportunities in specific areas to avoid potential negative impacts on profitability and market expansion."
      ],
      "metadata": {
        "id": "druuKYZpp1ck"
      }
    },
    {
      "cell_type": "markdown",
      "source": [
        "# **Chart - 12 Neighbourhood vs Price**"
      ],
      "metadata": {
        "id": "n3dbpmDWp1ck"
      }
    },
    {
      "cell_type": "code",
      "source": [
        "# Chart - 12 Neighbourhood vs Price\n",
        "\n",
        "#Figure Size:\n",
        "fig = plt.figure(figsize=(30, 8))\n",
        "\n",
        "#Line Plot Creation:\n",
        "sns.lineplot(data=airbnb, x='neighbourhood', y='price', hue='room_type',palette=\"hls\")\n",
        "\n",
        "#X-Axis Label Rotation:\n",
        "plt.xticks(rotation=90)\n",
        "\n",
        "#Chart Title and Axis Labels:\n",
        "plt.title('Neighbourhood vs Price')\n",
        "plt.ylabel(\"Price\")\n",
        "plt.xlabel(\"Neighbourhood\")"
      ],
      "metadata": {
        "id": "bwevp1tKp1ck"
      },
      "execution_count": null,
      "outputs": []
    },
    {
      "cell_type": "markdown",
      "source": [
        "##### 1. Why did you pick the specific chart?"
      ],
      "metadata": {
        "id": "ylSl6qgtp1ck"
      }
    },
    {
      "cell_type": "markdown",
      "source": [
        "The line plot effectively visualizes the relationship between neighborhood, price, and room type in the Airbnb dataset, allowing for comparisons of price variations across different neighborhoods and room types, identification of trends, and differentiation of room types within each neighborhood."
      ],
      "metadata": {
        "id": "m2xqNkiQp1ck"
      }
    },
    {
      "cell_type": "markdown",
      "source": [
        "##### 2. What is/are the insight(s) found from the chart?\n",
        "\n",
        "\n"
      ],
      "metadata": {
        "id": "ZWILFDl5p1ck"
      }
    },
    {
      "cell_type": "markdown",
      "source": [
        "As we can see in above lineplot that it is quite evident that Entire room/apt has all time high price and shared room has the lowest price throughout the neighbourhood.\n"
      ],
      "metadata": {
        "id": "UXY70SgqTI8E"
      }
    },
    {
      "cell_type": "markdown",
      "source": [
        "##### 3. Will the gained insights help creating a positive business impact?\n",
        "Are there any insights that lead to negative growth? Justify with specific reason."
      ],
      "metadata": {
        "id": "M7G43BXep1ck"
      }
    },
    {
      "cell_type": "markdown",
      "source": [
        "**Positive Business Impact:**\n",
        "* The gained insights regarding the relationship between neighborhood, price, and room type can positively impact businesses by enabling pricing optimization, targeted marketing, and the identification of competitive advantages through differentiated pricing and niche market targeting.\n",
        "\n",
        "**Negative Business Impact**\n",
        "\n",
        "* While the gained insights themselves do not inherently lead to negative growth, businesses should be cautious of potential risks, such as pricing disparities and misalignment with market demand, which could impact customer satisfaction, market balance, resource utilization, and revenue generation.\n"
      ],
      "metadata": {
        "id": "x-lUsV2mp1ck"
      }
    },
    {
      "cell_type": "markdown",
      "source": [
        "# **Chart - 13 Minimum Stay for a single booking.**"
      ],
      "metadata": {
        "id": "Ag9LCva-p1cl"
      }
    },
    {
      "cell_type": "code",
      "source": [
        "#Grouping and Aggregating Data:\n",
        "stay_airbnb = airbnb.groupby(['neighbourhood_group'], as_index=False)['minimum_nights'].mean()\n",
        "stay_airbnb"
      ],
      "metadata": {
        "id": "EUfxeq9-p1cl"
      },
      "execution_count": null,
      "outputs": []
    },
    {
      "cell_type": "code",
      "source": [
        "stay_airbnb['minimum_nights']\n",
        "\n",
        "#Creation of Empty List:\n",
        "stay_type = []\n",
        "\n",
        "#Write a function to define the stay in 3 category. 1.shortterm_visit, 2.midterm_visit, 3.longterm_visit\n",
        "for i in stay_airbnb['minimum_nights']:\n",
        "  if i <= 5:\n",
        "    stay_type.append('shortterm_visit')                 # Less than or equal to 5 days is Short Term Visit - For Business/Lesiure/Personal\n",
        "  elif i > 5 and i <= 90:\n",
        "    stay_type.append('midterm_visit')                   # Less than or equal to 90 days is Mid Term Visit - For Bagpackers\n",
        "  else:\n",
        "    stay_type.append('longterm_visit')"
      ],
      "metadata": {
        "id": "WvXGZWZ8fE8V"
      },
      "execution_count": null,
      "outputs": []
    },
    {
      "cell_type": "code",
      "source": [
        "#DataFrame Column Creation:\n",
        "\n",
        "stay_airbnb['Visit Type'] = stay_type\n",
        "stay_airbnb"
      ],
      "metadata": {
        "id": "9TNongaUfnEN"
      },
      "execution_count": null,
      "outputs": []
    },
    {
      "cell_type": "code",
      "source": [
        "#Figure Size:\n",
        "fig = plt.figure(figsize=(14, 6))\n",
        "\n",
        "#Styling\n",
        "sns.set_theme(style=\"ticks\")\n",
        "\n",
        "#Styling\n",
        "sns.barplot(data= stay_airbnb, y='minimum_nights', x='Visit Type', hue ='neighbourhood_group', palette=\"Dark2\")\n",
        "\n",
        "#Bar Plot Creation\n",
        "plt.title('Minimum nights vs Visit Type')"
      ],
      "metadata": {
        "id": "cu6kHiSAekLi"
      },
      "execution_count": null,
      "outputs": []
    },
    {
      "cell_type": "markdown",
      "source": [
        "##### 1. Why did you pick the specific chart?"
      ],
      "metadata": {
        "id": "E6MkPsBcp1cl"
      }
    },
    {
      "cell_type": "markdown",
      "source": [
        "The bar plot is chosen to visually compare the average minimum nights stayed for different categorized visit types, grouped by neighborhood groups, allowing for clear differentiation and easy interpretation of the relationship between these variables."
      ],
      "metadata": {
        "id": "V22bRsFWp1cl"
      }
    },
    {
      "cell_type": "markdown",
      "source": [
        "##### 2. What is/are the insight(s) found from the chart?"
      ],
      "metadata": {
        "id": "2cELzS2fp1cl"
      }
    },
    {
      "cell_type": "markdown",
      "source": [
        "* On the basis of hosts allowing minimum mandatory stay Manhattan, Queens and Brooklyn hosts prefer customers having a minimum 'Mid-term visit' whereas hosts in Bronx and Staten Island prefer customers having a minimum 'Short-term visit'.\n",
        "\n",
        "* Bronx and Staten Island can be preferred for shorter stays over other neighbourhoods making it budget friendly to some extent.\n",
        "\n",
        "* Manhattan and Brooklyn being posh areas and the implementaion of higher mandatory stays for single booking will be make these trips/visits expensive.\n",
        "\n",
        "* Different marketing initiatives can be rolled out based on the mandatory stay period in following neighbourhoods."
      ],
      "metadata": {
        "id": "ozQPc2_Ip1cl"
      }
    },
    {
      "cell_type": "markdown",
      "source": [
        "##### 3. Will the gained insights help creating a positive business impact?\n",
        "Are there any insights that lead to negative growth? Justify with specific reason."
      ],
      "metadata": {
        "id": "3MPXvC8up1cl"
      }
    },
    {
      "cell_type": "markdown",
      "source": [
        "**Positive Business Impact:**\n",
        "\n",
        "The gained insights on host preferences and mandatory stay periods have the potential to create a positive business impact. By optimizing pricing strategies based on demand for different stay durations in specific neighborhoods, businesses can maximize revenue and maintain competitiveness. Targeted marketing campaigns tailored to neighborhood-specific preferences can attract the desired audience, leading to increased bookings. By aligning offerings with customer preferences, businesses can enhance customer satisfaction, resulting in positive reviews, repeat bookings, and positive word-of-mouth recommendations, fostering long-term success.\n",
        "\n",
        "\n",
        "\n",
        "**Negative Business Impact**\n",
        "\n",
        "While the gained insights themselves do not inherently lead to negative growth, businesses should consider potential risks such as competitive pricing and market segmentation. Careful pricing strategies should be implemented to avoid pricing themselves out of the market, ensuring affordability and maintaining competitiveness. Additionally, businesses should avoid overemphasizing specific neighborhoods or stay durations to prevent neglecting other market segments, ensuring a diverse customer base and avoiding exclusion of potential customers. By considering these factors, businesses can mitigate risks and foster sustainable growth."
      ],
      "metadata": {
        "id": "GL8l1tdLp1cl"
      }
    },
    {
      "cell_type": "markdown",
      "source": [
        "#### Chart - 14 - Correlation Heatmap"
      ],
      "metadata": {
        "id": "NC_X3p0fY2L0"
      }
    },
    {
      "cell_type": "code",
      "source": [
        "#Chart - 14 - Correlation Heatmap\n",
        "klib.corr_plot(airbnb)"
      ],
      "metadata": {
        "id": "xyC9zolEZNRQ"
      },
      "execution_count": null,
      "outputs": []
    },
    {
      "cell_type": "markdown",
      "source": [
        "##### 1. Why did you pick the specific chart?"
      ],
      "metadata": {
        "id": "UV0SzAkaZNRQ"
      }
    },
    {
      "cell_type": "markdown",
      "source": [
        "The heatmap helps to identify patterns and relationships between variables.\n",
        "A correlation heatmap provides a visual representation of the relationships between variables in a dataset. It helps identify strong correlations, detect multicollinearity, guide variable selection, and inform feature engineering decisions. By examining the heatmap, patterns and relationships can be identified, aiding in data analysis, model building, and variable manipulation to gain insights and improve predictive accuracy."
      ],
      "metadata": {
        "id": "DVPuT8LYZNRQ"
      }
    },
    {
      "cell_type": "markdown",
      "source": [
        "##### 2. What is/are the insight(s) found from the chart?"
      ],
      "metadata": {
        "id": "YPEH6qLeZNRQ"
      }
    },
    {
      "cell_type": "markdown",
      "source": [
        "* High correlation number represents high correlation between two variables\n",
        "eg. number of reviews and reviews per month has correction factor as 0.59 which represents they are highly correlated.\n",
        "* low correlation number represents less correlation between two variables.\n",
        "eg.  host id and minimun nights has correlation factor -0.019 which represents they are not much dependent on each other"
      ],
      "metadata": {
        "id": "bfSqtnDqZNRR"
      }
    },
    {
      "cell_type": "markdown",
      "source": [
        "#### Chart - 15 - Pair Plot"
      ],
      "metadata": {
        "id": "q29F0dvdveiT"
      }
    },
    {
      "cell_type": "code",
      "source": [
        "#A pairplot plot a pairwise relationships in a dataset. here we can see distribution of each pair with neighbourhood groups.\n",
        "sns.pairplot(data = airbnb, hue='neighbourhood_group')\n",
        "plt.title('Pair plot with different Location')\n",
        "\n",
        "\n",
        "# NOTE: This chart pairplot is taking aproximately 10 minutes to execute"
      ],
      "metadata": {
        "id": "o58-TEIhveiU"
      },
      "execution_count": null,
      "outputs": []
    },
    {
      "cell_type": "markdown",
      "source": [
        "##### 1. Why did you pick the specific chart?\n",
        "\n",
        "\n"
      ],
      "metadata": {
        "id": "EXh0U9oCveiU"
      }
    },
    {
      "cell_type": "markdown",
      "source": [
        "The pairplot is a useful visualization tool that allows us to explore the pairwise relationships and distributions of variables in the Airbnb dataset, with the ability to differentiate the plots based on the neighborhood groups. By examining the scatter plots and histograms, we can gain insights into how variables are related and understand the distribution patterns across different locations. The pairplot aids in identifying potential correlations, outliers, and trends, providing a comprehensive view of the data and facilitating further analysis."
      ],
      "metadata": {
        "id": "eMmPjTByveiU"
      }
    },
    {
      "cell_type": "markdown",
      "source": [
        "##### 2. What is/are the insight(s) found from the chart?"
      ],
      "metadata": {
        "id": "22aHeOlLveiV"
      }
    },
    {
      "cell_type": "markdown",
      "source": [
        "* From the above pair plot we can conclude that most of the customers are visiting to Manhattan followed by Brooklyn\n",
        "* Pricing, minimum night stay, average listing price is more for Manhattan region."
      ],
      "metadata": {
        "id": "uPQ8RGwHveiV"
      }
    },
    {
      "cell_type": "markdown",
      "source": [
        "## **5. Solution to Business Objective**"
      ],
      "metadata": {
        "id": "JcMwzZxoAimU"
      }
    },
    {
      "cell_type": "markdown",
      "source": [
        "#### What do you suggest the client to achieve Business Objective ?\n",
        "Explain Briefly."
      ],
      "metadata": {
        "id": "8G2x9gOozGDZ"
      }
    },
    {
      "cell_type": "markdown",
      "source": [
        "Based on the analysis that we have done, here are some recommendations to help the client achieve their business objectives:\n",
        "\n",
        "* Pricing Optimization: Utilize the insights gained from the analysis of neighborhood, room type, and minimum nights to optimize pricing strategies. Adjust prices based on demand and customer preferences in specific neighborhoods, offering competitive rates for different stay durations. This can maximize revenue and attract the desired audience.\n",
        "\n",
        "* Targeted Marketing: Tailor marketing efforts to specific neighborhoods and stay durations. Develop targeted campaigns that highlight the unique features and advantages of accommodations in each neighborhood. Promote shorter stays in Bronx and Staten Island as budget-friendly options, while emphasizing luxury and longer stays in Manhattan and Brooklyn. This can increase customer engagement and bookings.\n",
        "\n",
        "* Customer Satisfaction: Align offerings with customer preferences to enhance satisfaction. Consider the average minimum nights stayed, room types, and neighborhood preferences to provide accommodation options that meet customer requirements. Continuously monitor customer feedback and reviews to address any issues and ensure a positive guest experience.\n",
        "\n",
        "* Market Expansion: Explore growth opportunities in neighborhoods with high demand and limited supply. Identify areas where shorter stays or specific room types are in demand and consider expanding property acquisition or management in those locations. This can help tap into underserved markets and drive business growth.\n",
        "\n",
        "* Competitive Analysis: Continuously monitor competitors in the market, especially in posh areas like Manhattan and Brooklyn. Stay updated on their pricing strategies, room types offered, and customer reviews. Identify opportunities to differentiate offerings and provide unique value propositions to maintain a competitive edge.\n",
        "\n",
        "\n",
        "By implementing these recommendations, the client can enhance pricing strategies, target marketing efforts, improve customer satisfaction, expand into new markets, stay competitive, and make data-driven decisions. These actions can help achieve the business objectives of increasing revenue, attracting customers, and driving positive business growth in the Airbnb market."
      ],
      "metadata": {
        "id": "pASKb0qOza21"
      }
    },
    {
      "cell_type": "markdown",
      "source": [
        "# **Conclusion**"
      ],
      "metadata": {
        "id": "gCX9965dhzqZ"
      }
    },
    {
      "cell_type": "markdown",
      "source": [
        "* Manhattan and Brooklyn are the posh areas in NY as  there is  maximum footfall and properties based on prices and listings are are on the higher side.\n",
        "\n",
        "* Manhattan and Brooklyn have the highest number of hosts.\n",
        "\n",
        "* Manhattan has highest number of Private rooms and Entire House/Apt. in culmination followed by Brooklyn.\n",
        "\n",
        "* Highest accommodations of 10,000 USD are available at Manhattan, Brooklyn and Queens.\n",
        "\n",
        "* Most popular hosts are Sonder, Blueground ,Kara to name a few based on number of reviews and calculated host listing counts.\n",
        "\n",
        "* Staten Island seems more to be available for booking throughout the year compared to other neighbourhoods.\n",
        "\n",
        "* Sonder,Blueground ,Sally are some of the top hosts based on their turnover.\n",
        "Financial District, Midtown, Chelsea are some of the top neighbourhood based on their turnover.\n",
        "\n",
        "* Shared rooms are mostly available over other room types and Entire Home /Apt which has the highest proportion of room share are mostly on the expensive ends.\n",
        "Fort Wadsworth and Woodrow are expensive neighbourhood based on median listed price belonging to Staten Island.\n",
        "\n",
        "* Most hosts allow a minimum 5 nights mandatory stay for single booking but the average increases in case of Manhattan, Brooklyn and Queens.\n",
        "\n",
        "* Bronx and Staten Island are mostly preferred for Shorter visits and onwards and others are for slightly longer stays."
      ],
      "metadata": {
        "id": "2x1dRRVyvq6f"
      }
    },
    {
      "cell_type": "markdown",
      "source": [
        "### ***Hurrah! You have successfully completed your EDA Capstone Project !!!***"
      ],
      "metadata": {
        "id": "gIfDvo9L0UH2"
      }
    }
  ]
}